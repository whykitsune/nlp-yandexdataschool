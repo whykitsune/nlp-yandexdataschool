{
  "cells": [
    {
      "cell_type": "markdown",
      "metadata": {
        "cellId": "k1gpzj4guo8e1riwj3om1k",
        "id": "UPROs2oD5PYo"
      },
      "source": [
        "### N-gram language models or how to write scientific papers (4 pts)\n",
        "\n",
        "We shall train our language model on a corpora of [ArXiv](http://arxiv.org/) articles and see if we can generate a new one!\n",
        "\n",
        "![img](https://media.npr.org/assets/img/2013/12/10/istock-18586699-monkey-computer_brick-16e5064d3378a14e0e4c2da08857efe03c04695e-s800-c85.jpg)\n",
        "\n",
        "_data by neelshah18 from [here](https://www.kaggle.com/neelshah18/arxivdataset/)_\n",
        "\n",
        "_Disclaimer: this has nothing to do with actual science. But it's fun, so who cares?!_"
      ]
    },
    {
      "cell_type": "code",
      "execution_count": 1,
      "metadata": {
        "cellId": "u8jdaiy68oib3jvr4k01",
        "id": "Q1UggVab5PYw"
      },
      "outputs": [],
      "source": [
        "import numpy as np\n",
        "import pandas as pd\n",
        "import matplotlib.pyplot as plt\n",
        "%matplotlib inline"
      ]
    },
    {
      "cell_type": "code",
      "execution_count": 2,
      "metadata": {
        "cellId": "0c76vnyl3zui9yhtkodgrlf",
        "id": "HqOuvdEy5PY0",
        "colab": {
          "base_uri": "https://localhost:8080/",
          "height": 746
        },
        "outputId": "bfc6790b-5751-429b-af2a-fec0d9b5fea8"
      },
      "outputs": [
        {
          "output_type": "stream",
          "name": "stdout",
          "text": [
            "--2025-05-08 08:59:36--  https://www.dropbox.com/s/99az9n1b57qkd9j/arxivData.json.tar.gz?dl=1\n",
            "Resolving www.dropbox.com (www.dropbox.com)... 162.125.5.18, 2620:100:601d:18::a27d:512\n",
            "Connecting to www.dropbox.com (www.dropbox.com)|162.125.5.18|:443... connected.\n",
            "HTTP request sent, awaiting response... 302 Found\n",
            "Location: https://www.dropbox.com/scl/fi/0mulrothty5o8i8ud9gz2/arxivData.json.tar.gz?rlkey=n759u5qx2xpxxglmrl390vwvk&dl=1 [following]\n",
            "--2025-05-08 08:59:37--  https://www.dropbox.com/scl/fi/0mulrothty5o8i8ud9gz2/arxivData.json.tar.gz?rlkey=n759u5qx2xpxxglmrl390vwvk&dl=1\n",
            "Reusing existing connection to www.dropbox.com:443.\n",
            "HTTP request sent, awaiting response... 302 Found\n",
            "Location: https://uc905b7ec3a260ac9c59ff3ffa6b.dl.dropboxusercontent.com/cd/0/inline/CpRaMGsO26ZF0mzNU1WauuybjyHGiTSPC5HT4TkNmXbuG8e1Oa6ibopiS7urqCtujo0DR8CmWHv0jqNBsIkO8EqZ_RFzYuhOYOP_Z2DE_G8iInoXXaSt87_XO1z9yJPDgnU/file?dl=1# [following]\n",
            "--2025-05-08 08:59:37--  https://uc905b7ec3a260ac9c59ff3ffa6b.dl.dropboxusercontent.com/cd/0/inline/CpRaMGsO26ZF0mzNU1WauuybjyHGiTSPC5HT4TkNmXbuG8e1Oa6ibopiS7urqCtujo0DR8CmWHv0jqNBsIkO8EqZ_RFzYuhOYOP_Z2DE_G8iInoXXaSt87_XO1z9yJPDgnU/file?dl=1\n",
            "Resolving uc905b7ec3a260ac9c59ff3ffa6b.dl.dropboxusercontent.com (uc905b7ec3a260ac9c59ff3ffa6b.dl.dropboxusercontent.com)... 162.125.5.15, 2620:100:601d:15::a27d:50f\n",
            "Connecting to uc905b7ec3a260ac9c59ff3ffa6b.dl.dropboxusercontent.com (uc905b7ec3a260ac9c59ff3ffa6b.dl.dropboxusercontent.com)|162.125.5.15|:443... connected.\n",
            "HTTP request sent, awaiting response... 302 Found\n",
            "Location: /cd/0/inline2/CpQv26aS9TfVcbsDVMR47vt-FqcJf8upe6V70xW14QGSjuCYKp6ZLfxdWM-llTs3P4GAq3sFTCi7ATyWVQK9Vp0p8dP6Lep3pfkyXuQfcRytG9xH6niU8Euou-wYGegB3WK80qL-bnSvKvQtP9pXhxDe4mxSiBbcGD3SXh0UXWH3b585CecrM0Ot6p4twoQZC2UTuvyMSNT9v1NjBTky9ocejqY8WHFT0NHdJwt4IqT1hcKK5fJ0dWhj0p5RGp5dQ-vllCHvyehKAhjvJ8OAJR6SefdmU2ucnuv4JM66mPIhNo2UtNjNSnw2AITVOYQLyBMvt776SIx1GcjOwX-WQvUznf0dTvApNfGAnLIHbUhnzA/file?dl=1 [following]\n",
            "--2025-05-08 08:59:38--  https://uc905b7ec3a260ac9c59ff3ffa6b.dl.dropboxusercontent.com/cd/0/inline2/CpQv26aS9TfVcbsDVMR47vt-FqcJf8upe6V70xW14QGSjuCYKp6ZLfxdWM-llTs3P4GAq3sFTCi7ATyWVQK9Vp0p8dP6Lep3pfkyXuQfcRytG9xH6niU8Euou-wYGegB3WK80qL-bnSvKvQtP9pXhxDe4mxSiBbcGD3SXh0UXWH3b585CecrM0Ot6p4twoQZC2UTuvyMSNT9v1NjBTky9ocejqY8WHFT0NHdJwt4IqT1hcKK5fJ0dWhj0p5RGp5dQ-vllCHvyehKAhjvJ8OAJR6SefdmU2ucnuv4JM66mPIhNo2UtNjNSnw2AITVOYQLyBMvt776SIx1GcjOwX-WQvUznf0dTvApNfGAnLIHbUhnzA/file?dl=1\n",
            "Reusing existing connection to uc905b7ec3a260ac9c59ff3ffa6b.dl.dropboxusercontent.com:443.\n",
            "HTTP request sent, awaiting response... 200 OK\n",
            "Length: 18933283 (18M) [application/binary]\n",
            "Saving to: ‘arxivData.json.tar.gz’\n",
            "\n",
            "arxivData.json.tar. 100%[===================>]  18.06M  59.0MB/s    in 0.3s    \n",
            "\n",
            "2025-05-08 08:59:39 (59.0 MB/s) - ‘arxivData.json.tar.gz’ saved [18933283/18933283]\n",
            "\n",
            "arxivData.json\n"
          ]
        },
        {
          "output_type": "execute_result",
          "data": {
            "text/plain": [
              "                                                  author  day            id  \\\n",
              "5123   [{'name': 'Alessandro Corbetta'}, {'name': 'Vl...    9  1706.02850v1   \n",
              "25271  [{'name': 'Shicong Liu'}, {'name': 'Hongtao Lu'}]    6  1507.01442v1   \n",
              "11685  [{'name': 'Jesse Read'}, {'name': 'Luca Martin...   27  1609.08349v2   \n",
              "17686  [{'name': 'Mahsa Sadat Shahshahani'}, {'name':...   30  1801.09936v1   \n",
              "2511     [{'name': 'Che-Yu Liu'}, {'name': 'Lihong Li'}]   10  1506.03378v2   \n",
              "\n",
              "                                                    link  month  \\\n",
              "5123   [{'rel': 'alternate', 'href': 'http://arxiv.or...      6   \n",
              "25271  [{'rel': 'alternate', 'href': 'http://arxiv.or...      7   \n",
              "11685  [{'rel': 'alternate', 'href': 'http://arxiv.or...      9   \n",
              "17686  [{'rel': 'alternate', 'href': 'http://arxiv.or...      1   \n",
              "2511   [{'rel': 'alternate', 'href': 'http://arxiv.or...      6   \n",
              "\n",
              "                                                 summary  \\\n",
              "5123   Overhead depth map measurements capture suffic...   \n",
              "25271  We introduce a novel dictionary optimization m...   \n",
              "11685  The number of methods available for classifica...   \n",
              "17686  The goal in the NER task is to classify proper...   \n",
              "2511   The empirically successful Thompson Sampling a...   \n",
              "\n",
              "                                                     tag  \\\n",
              "5123   [{'term': 'cs.CV', 'scheme': 'http://arxiv.org...   \n",
              "25271  [{'term': 'cs.CV', 'scheme': 'http://arxiv.org...   \n",
              "11685  [{'term': 'cs.LG', 'scheme': 'http://arxiv.org...   \n",
              "17686  [{'term': 'cs.CL', 'scheme': 'http://arxiv.org...   \n",
              "2511   [{'term': 'cs.LG', 'scheme': 'http://arxiv.org...   \n",
              "\n",
              "                                                   title  year  \n",
              "5123   Weakly supervised training of deep convolution...  2017  \n",
              "25271  Learning Better Encoding for Approximate Neare...  2015  \n",
              "11685  Multi-label Methods for Prediction with Sequen...  2016  \n",
              "17686  PEYMA: A Tagged Corpus for Persian Named Entities  2018  \n",
              "2511       On the Prior Sensitivity of Thompson Sampling  2015  "
            ],
            "text/html": [
              "\n",
              "  <div id=\"df-e5462f2b-702f-4200-b411-96494e8ba205\" class=\"colab-df-container\">\n",
              "    <div>\n",
              "<style scoped>\n",
              "    .dataframe tbody tr th:only-of-type {\n",
              "        vertical-align: middle;\n",
              "    }\n",
              "\n",
              "    .dataframe tbody tr th {\n",
              "        vertical-align: top;\n",
              "    }\n",
              "\n",
              "    .dataframe thead th {\n",
              "        text-align: right;\n",
              "    }\n",
              "</style>\n",
              "<table border=\"1\" class=\"dataframe\">\n",
              "  <thead>\n",
              "    <tr style=\"text-align: right;\">\n",
              "      <th></th>\n",
              "      <th>author</th>\n",
              "      <th>day</th>\n",
              "      <th>id</th>\n",
              "      <th>link</th>\n",
              "      <th>month</th>\n",
              "      <th>summary</th>\n",
              "      <th>tag</th>\n",
              "      <th>title</th>\n",
              "      <th>year</th>\n",
              "    </tr>\n",
              "  </thead>\n",
              "  <tbody>\n",
              "    <tr>\n",
              "      <th>5123</th>\n",
              "      <td>[{'name': 'Alessandro Corbetta'}, {'name': 'Vl...</td>\n",
              "      <td>9</td>\n",
              "      <td>1706.02850v1</td>\n",
              "      <td>[{'rel': 'alternate', 'href': 'http://arxiv.or...</td>\n",
              "      <td>6</td>\n",
              "      <td>Overhead depth map measurements capture suffic...</td>\n",
              "      <td>[{'term': 'cs.CV', 'scheme': 'http://arxiv.org...</td>\n",
              "      <td>Weakly supervised training of deep convolution...</td>\n",
              "      <td>2017</td>\n",
              "    </tr>\n",
              "    <tr>\n",
              "      <th>25271</th>\n",
              "      <td>[{'name': 'Shicong Liu'}, {'name': 'Hongtao Lu'}]</td>\n",
              "      <td>6</td>\n",
              "      <td>1507.01442v1</td>\n",
              "      <td>[{'rel': 'alternate', 'href': 'http://arxiv.or...</td>\n",
              "      <td>7</td>\n",
              "      <td>We introduce a novel dictionary optimization m...</td>\n",
              "      <td>[{'term': 'cs.CV', 'scheme': 'http://arxiv.org...</td>\n",
              "      <td>Learning Better Encoding for Approximate Neare...</td>\n",
              "      <td>2015</td>\n",
              "    </tr>\n",
              "    <tr>\n",
              "      <th>11685</th>\n",
              "      <td>[{'name': 'Jesse Read'}, {'name': 'Luca Martin...</td>\n",
              "      <td>27</td>\n",
              "      <td>1609.08349v2</td>\n",
              "      <td>[{'rel': 'alternate', 'href': 'http://arxiv.or...</td>\n",
              "      <td>9</td>\n",
              "      <td>The number of methods available for classifica...</td>\n",
              "      <td>[{'term': 'cs.LG', 'scheme': 'http://arxiv.org...</td>\n",
              "      <td>Multi-label Methods for Prediction with Sequen...</td>\n",
              "      <td>2016</td>\n",
              "    </tr>\n",
              "    <tr>\n",
              "      <th>17686</th>\n",
              "      <td>[{'name': 'Mahsa Sadat Shahshahani'}, {'name':...</td>\n",
              "      <td>30</td>\n",
              "      <td>1801.09936v1</td>\n",
              "      <td>[{'rel': 'alternate', 'href': 'http://arxiv.or...</td>\n",
              "      <td>1</td>\n",
              "      <td>The goal in the NER task is to classify proper...</td>\n",
              "      <td>[{'term': 'cs.CL', 'scheme': 'http://arxiv.org...</td>\n",
              "      <td>PEYMA: A Tagged Corpus for Persian Named Entities</td>\n",
              "      <td>2018</td>\n",
              "    </tr>\n",
              "    <tr>\n",
              "      <th>2511</th>\n",
              "      <td>[{'name': 'Che-Yu Liu'}, {'name': 'Lihong Li'}]</td>\n",
              "      <td>10</td>\n",
              "      <td>1506.03378v2</td>\n",
              "      <td>[{'rel': 'alternate', 'href': 'http://arxiv.or...</td>\n",
              "      <td>6</td>\n",
              "      <td>The empirically successful Thompson Sampling a...</td>\n",
              "      <td>[{'term': 'cs.LG', 'scheme': 'http://arxiv.org...</td>\n",
              "      <td>On the Prior Sensitivity of Thompson Sampling</td>\n",
              "      <td>2015</td>\n",
              "    </tr>\n",
              "  </tbody>\n",
              "</table>\n",
              "</div>\n",
              "    <div class=\"colab-df-buttons\">\n",
              "\n",
              "  <div class=\"colab-df-container\">\n",
              "    <button class=\"colab-df-convert\" onclick=\"convertToInteractive('df-e5462f2b-702f-4200-b411-96494e8ba205')\"\n",
              "            title=\"Convert this dataframe to an interactive table.\"\n",
              "            style=\"display:none;\">\n",
              "\n",
              "  <svg xmlns=\"http://www.w3.org/2000/svg\" height=\"24px\" viewBox=\"0 -960 960 960\">\n",
              "    <path d=\"M120-120v-720h720v720H120Zm60-500h600v-160H180v160Zm220 220h160v-160H400v160Zm0 220h160v-160H400v160ZM180-400h160v-160H180v160Zm440 0h160v-160H620v160ZM180-180h160v-160H180v160Zm440 0h160v-160H620v160Z\"/>\n",
              "  </svg>\n",
              "    </button>\n",
              "\n",
              "  <style>\n",
              "    .colab-df-container {\n",
              "      display:flex;\n",
              "      gap: 12px;\n",
              "    }\n",
              "\n",
              "    .colab-df-convert {\n",
              "      background-color: #E8F0FE;\n",
              "      border: none;\n",
              "      border-radius: 50%;\n",
              "      cursor: pointer;\n",
              "      display: none;\n",
              "      fill: #1967D2;\n",
              "      height: 32px;\n",
              "      padding: 0 0 0 0;\n",
              "      width: 32px;\n",
              "    }\n",
              "\n",
              "    .colab-df-convert:hover {\n",
              "      background-color: #E2EBFA;\n",
              "      box-shadow: 0px 1px 2px rgba(60, 64, 67, 0.3), 0px 1px 3px 1px rgba(60, 64, 67, 0.15);\n",
              "      fill: #174EA6;\n",
              "    }\n",
              "\n",
              "    .colab-df-buttons div {\n",
              "      margin-bottom: 4px;\n",
              "    }\n",
              "\n",
              "    [theme=dark] .colab-df-convert {\n",
              "      background-color: #3B4455;\n",
              "      fill: #D2E3FC;\n",
              "    }\n",
              "\n",
              "    [theme=dark] .colab-df-convert:hover {\n",
              "      background-color: #434B5C;\n",
              "      box-shadow: 0px 1px 3px 1px rgba(0, 0, 0, 0.15);\n",
              "      filter: drop-shadow(0px 1px 2px rgba(0, 0, 0, 0.3));\n",
              "      fill: #FFFFFF;\n",
              "    }\n",
              "  </style>\n",
              "\n",
              "    <script>\n",
              "      const buttonEl =\n",
              "        document.querySelector('#df-e5462f2b-702f-4200-b411-96494e8ba205 button.colab-df-convert');\n",
              "      buttonEl.style.display =\n",
              "        google.colab.kernel.accessAllowed ? 'block' : 'none';\n",
              "\n",
              "      async function convertToInteractive(key) {\n",
              "        const element = document.querySelector('#df-e5462f2b-702f-4200-b411-96494e8ba205');\n",
              "        const dataTable =\n",
              "          await google.colab.kernel.invokeFunction('convertToInteractive',\n",
              "                                                    [key], {});\n",
              "        if (!dataTable) return;\n",
              "\n",
              "        const docLinkHtml = 'Like what you see? Visit the ' +\n",
              "          '<a target=\"_blank\" href=https://colab.research.google.com/notebooks/data_table.ipynb>data table notebook</a>'\n",
              "          + ' to learn more about interactive tables.';\n",
              "        element.innerHTML = '';\n",
              "        dataTable['output_type'] = 'display_data';\n",
              "        await google.colab.output.renderOutput(dataTable, element);\n",
              "        const docLink = document.createElement('div');\n",
              "        docLink.innerHTML = docLinkHtml;\n",
              "        element.appendChild(docLink);\n",
              "      }\n",
              "    </script>\n",
              "  </div>\n",
              "\n",
              "\n",
              "    <div id=\"df-139a350d-9e39-4a5e-9bff-f8b594cb5db3\">\n",
              "      <button class=\"colab-df-quickchart\" onclick=\"quickchart('df-139a350d-9e39-4a5e-9bff-f8b594cb5db3')\"\n",
              "                title=\"Suggest charts\"\n",
              "                style=\"display:none;\">\n",
              "\n",
              "<svg xmlns=\"http://www.w3.org/2000/svg\" height=\"24px\"viewBox=\"0 0 24 24\"\n",
              "     width=\"24px\">\n",
              "    <g>\n",
              "        <path d=\"M19 3H5c-1.1 0-2 .9-2 2v14c0 1.1.9 2 2 2h14c1.1 0 2-.9 2-2V5c0-1.1-.9-2-2-2zM9 17H7v-7h2v7zm4 0h-2V7h2v10zm4 0h-2v-4h2v4z\"/>\n",
              "    </g>\n",
              "</svg>\n",
              "      </button>\n",
              "\n",
              "<style>\n",
              "  .colab-df-quickchart {\n",
              "      --bg-color: #E8F0FE;\n",
              "      --fill-color: #1967D2;\n",
              "      --hover-bg-color: #E2EBFA;\n",
              "      --hover-fill-color: #174EA6;\n",
              "      --disabled-fill-color: #AAA;\n",
              "      --disabled-bg-color: #DDD;\n",
              "  }\n",
              "\n",
              "  [theme=dark] .colab-df-quickchart {\n",
              "      --bg-color: #3B4455;\n",
              "      --fill-color: #D2E3FC;\n",
              "      --hover-bg-color: #434B5C;\n",
              "      --hover-fill-color: #FFFFFF;\n",
              "      --disabled-bg-color: #3B4455;\n",
              "      --disabled-fill-color: #666;\n",
              "  }\n",
              "\n",
              "  .colab-df-quickchart {\n",
              "    background-color: var(--bg-color);\n",
              "    border: none;\n",
              "    border-radius: 50%;\n",
              "    cursor: pointer;\n",
              "    display: none;\n",
              "    fill: var(--fill-color);\n",
              "    height: 32px;\n",
              "    padding: 0;\n",
              "    width: 32px;\n",
              "  }\n",
              "\n",
              "  .colab-df-quickchart:hover {\n",
              "    background-color: var(--hover-bg-color);\n",
              "    box-shadow: 0 1px 2px rgba(60, 64, 67, 0.3), 0 1px 3px 1px rgba(60, 64, 67, 0.15);\n",
              "    fill: var(--button-hover-fill-color);\n",
              "  }\n",
              "\n",
              "  .colab-df-quickchart-complete:disabled,\n",
              "  .colab-df-quickchart-complete:disabled:hover {\n",
              "    background-color: var(--disabled-bg-color);\n",
              "    fill: var(--disabled-fill-color);\n",
              "    box-shadow: none;\n",
              "  }\n",
              "\n",
              "  .colab-df-spinner {\n",
              "    border: 2px solid var(--fill-color);\n",
              "    border-color: transparent;\n",
              "    border-bottom-color: var(--fill-color);\n",
              "    animation:\n",
              "      spin 1s steps(1) infinite;\n",
              "  }\n",
              "\n",
              "  @keyframes spin {\n",
              "    0% {\n",
              "      border-color: transparent;\n",
              "      border-bottom-color: var(--fill-color);\n",
              "      border-left-color: var(--fill-color);\n",
              "    }\n",
              "    20% {\n",
              "      border-color: transparent;\n",
              "      border-left-color: var(--fill-color);\n",
              "      border-top-color: var(--fill-color);\n",
              "    }\n",
              "    30% {\n",
              "      border-color: transparent;\n",
              "      border-left-color: var(--fill-color);\n",
              "      border-top-color: var(--fill-color);\n",
              "      border-right-color: var(--fill-color);\n",
              "    }\n",
              "    40% {\n",
              "      border-color: transparent;\n",
              "      border-right-color: var(--fill-color);\n",
              "      border-top-color: var(--fill-color);\n",
              "    }\n",
              "    60% {\n",
              "      border-color: transparent;\n",
              "      border-right-color: var(--fill-color);\n",
              "    }\n",
              "    80% {\n",
              "      border-color: transparent;\n",
              "      border-right-color: var(--fill-color);\n",
              "      border-bottom-color: var(--fill-color);\n",
              "    }\n",
              "    90% {\n",
              "      border-color: transparent;\n",
              "      border-bottom-color: var(--fill-color);\n",
              "    }\n",
              "  }\n",
              "</style>\n",
              "\n",
              "      <script>\n",
              "        async function quickchart(key) {\n",
              "          const quickchartButtonEl =\n",
              "            document.querySelector('#' + key + ' button');\n",
              "          quickchartButtonEl.disabled = true;  // To prevent multiple clicks.\n",
              "          quickchartButtonEl.classList.add('colab-df-spinner');\n",
              "          try {\n",
              "            const charts = await google.colab.kernel.invokeFunction(\n",
              "                'suggestCharts', [key], {});\n",
              "          } catch (error) {\n",
              "            console.error('Error during call to suggestCharts:', error);\n",
              "          }\n",
              "          quickchartButtonEl.classList.remove('colab-df-spinner');\n",
              "          quickchartButtonEl.classList.add('colab-df-quickchart-complete');\n",
              "        }\n",
              "        (() => {\n",
              "          let quickchartButtonEl =\n",
              "            document.querySelector('#df-139a350d-9e39-4a5e-9bff-f8b594cb5db3 button');\n",
              "          quickchartButtonEl.style.display =\n",
              "            google.colab.kernel.accessAllowed ? 'block' : 'none';\n",
              "        })();\n",
              "      </script>\n",
              "    </div>\n",
              "    </div>\n",
              "  </div>\n"
            ],
            "application/vnd.google.colaboratory.intrinsic+json": {
              "type": "dataframe",
              "summary": "{\n  \"name\": \"data\",\n  \"rows\": 5,\n  \"fields\": [\n    {\n      \"column\": \"author\",\n      \"properties\": {\n        \"dtype\": \"string\",\n        \"num_unique_values\": 5,\n        \"samples\": [\n          \"[{'name': 'Shicong Liu'}, {'name': 'Hongtao Lu'}]\",\n          \"[{'name': 'Che-Yu Liu'}, {'name': 'Lihong Li'}]\",\n          \"[{'name': 'Jesse Read'}, {'name': 'Luca Martino'}, {'name': 'Jaakko Hollm\\u00e9n'}]\"\n        ],\n        \"semantic_type\": \"\",\n        \"description\": \"\"\n      }\n    },\n    {\n      \"column\": \"day\",\n      \"properties\": {\n        \"dtype\": \"number\",\n        \"std\": 11,\n        \"min\": 6,\n        \"max\": 30,\n        \"num_unique_values\": 5,\n        \"samples\": [\n          6,\n          10,\n          27\n        ],\n        \"semantic_type\": \"\",\n        \"description\": \"\"\n      }\n    },\n    {\n      \"column\": \"id\",\n      \"properties\": {\n        \"dtype\": \"string\",\n        \"num_unique_values\": 5,\n        \"samples\": [\n          \"1507.01442v1\",\n          \"1506.03378v2\",\n          \"1609.08349v2\"\n        ],\n        \"semantic_type\": \"\",\n        \"description\": \"\"\n      }\n    },\n    {\n      \"column\": \"link\",\n      \"properties\": {\n        \"dtype\": \"string\",\n        \"num_unique_values\": 5,\n        \"samples\": [\n          \"[{'rel': 'alternate', 'href': 'http://arxiv.org/abs/1507.01442v1', 'type': 'text/html'}, {'rel': 'related', 'href': 'http://arxiv.org/pdf/1507.01442v1', 'type': 'application/pdf', 'title': 'pdf'}]\",\n          \"[{'rel': 'alternate', 'href': 'http://arxiv.org/abs/1506.03378v2', 'type': 'text/html'}, {'rel': 'related', 'href': 'http://arxiv.org/pdf/1506.03378v2', 'type': 'application/pdf', 'title': 'pdf'}]\",\n          \"[{'rel': 'alternate', 'href': 'http://arxiv.org/abs/1609.08349v2', 'type': 'text/html'}, {'rel': 'related', 'href': 'http://arxiv.org/pdf/1609.08349v2', 'type': 'application/pdf', 'title': 'pdf'}]\"\n        ],\n        \"semantic_type\": \"\",\n        \"description\": \"\"\n      }\n    },\n    {\n      \"column\": \"month\",\n      \"properties\": {\n        \"dtype\": \"number\",\n        \"std\": 2,\n        \"min\": 1,\n        \"max\": 9,\n        \"num_unique_values\": 4,\n        \"samples\": [\n          7,\n          1,\n          6\n        ],\n        \"semantic_type\": \"\",\n        \"description\": \"\"\n      }\n    },\n    {\n      \"column\": \"summary\",\n      \"properties\": {\n        \"dtype\": \"string\",\n        \"num_unique_values\": 5,\n        \"samples\": [\n          \"We introduce a novel dictionary optimization method for high-dimensional\\nvector quantization employed in approximate nearest neighbor (ANN) search.\\nVector quantization methods first seek a series of dictionaries, then\\napproximate each vector by a sum of elements selected from these dictionaries.\\nAn optimal series of dictionaries should be mutually independent, and each\\ndictionary should generate a balanced encoding for the target dataset. Existing\\nmethods did not explicitly consider this. To achieve these goals along with\\nminimizing the quantization error (residue), we propose a novel dictionary\\noptimization method called \\\\emph{Dictionary Annealing} that alternatively\\n\\\"heats up\\\" a single dictionary by generating an intermediate dataset with\\nresidual vectors, \\\"cools down\\\" the dictionary by fitting the intermediate\\ndataset, then extracts the new residual vectors for the next iteration. Better\\ncodes can be learned by DA for the ANN search tasks. DA is easily implemented\\non GPU to utilize the latest computing technology, and can easily extended to\\nan online dictionary learning scheme. We show by experiments that our optimized\\ndictionaries substantially reduce the overall quantization error. Jointly used\\nwith residual vector quantization, our optimized dictionaries lead to a better\\napproximate nearest neighbor search performance compared to the\\nstate-of-the-art methods.\",\n          \"The empirically successful Thompson Sampling algorithm for stochastic bandits\\nhas drawn much interest in understanding its theoretical properties. One\\nimportant benefit of the algorithm is that it allows domain knowledge to be\\nconveniently encoded as a prior distribution to balance exploration and\\nexploitation more effectively. While it is generally believed that the\\nalgorithm's regret is low (high) when the prior is good (bad), little is known\\nabout the exact dependence. In this paper, we fully characterize the\\nalgorithm's worst-case dependence of regret on the choice of prior, focusing on\\na special yet representative case. These results also provide insights into the\\ngeneral sensitivity of the algorithm to the choice of priors. In particular,\\nwith $p$ being the prior probability mass of the true reward-generating model,\\nwe prove $O(\\\\sqrt{T/p})$ and $O(\\\\sqrt{(1-p)T})$ regret upper bounds for the\\nbad- and good-prior cases, respectively, as well as \\\\emph{matching} lower\\nbounds. Our proofs rely on the discovery of a fundamental property of Thompson\\nSampling and make heavy use of martingale theory, both of which appear novel in\\nthe literature, to the best of our knowledge.\",\n          \"The number of methods available for classification of multi-label data has\\nincreased rapidly over recent years, yet relatively few links have been made\\nwith the related task of classification of sequential data. If labels indices\\nare considered as time indices, the problems can often be seen as equivalent.\\nIn this paper we detect and elaborate on connections between multi-label\\nmethods and Markovian models, and study the suitability of multi-label methods\\nfor prediction in sequential data. From this study we draw upon the most\\nsuitable techniques from the area and develop two novel competitive approaches\\nwhich can be applied to either kind of data. We carry out an empirical\\nevaluation investigating performance on real-world sequential-prediction tasks:\\nelectricity demand, and route prediction. As well as showing that several\\npopular multi-label algorithms are in fact easily applicable to sequencing\\ntasks, our novel approaches, which benefit from a unified view of these areas,\\nprove very competitive against established methods.\"\n        ],\n        \"semantic_type\": \"\",\n        \"description\": \"\"\n      }\n    },\n    {\n      \"column\": \"tag\",\n      \"properties\": {\n        \"dtype\": \"string\",\n        \"num_unique_values\": 5,\n        \"samples\": [\n          \"[{'term': 'cs.CV', 'scheme': 'http://arxiv.org/schemas/atom', 'label': None}]\",\n          \"[{'term': 'cs.LG', 'scheme': 'http://arxiv.org/schemas/atom', 'label': None}, {'term': 'cs.AI', 'scheme': 'http://arxiv.org/schemas/atom', 'label': None}, {'term': 'stat.ML', 'scheme': 'http://arxiv.org/schemas/atom', 'label': None}]\",\n          \"[{'term': 'cs.LG', 'scheme': 'http://arxiv.org/schemas/atom', 'label': None}, {'term': 'cs.DS', 'scheme': 'http://arxiv.org/schemas/atom', 'label': None}, {'term': 'stat.ML', 'scheme': 'http://arxiv.org/schemas/atom', 'label': None}]\"\n        ],\n        \"semantic_type\": \"\",\n        \"description\": \"\"\n      }\n    },\n    {\n      \"column\": \"title\",\n      \"properties\": {\n        \"dtype\": \"string\",\n        \"num_unique_values\": 5,\n        \"samples\": [\n          \"Learning Better Encoding for Approximate Nearest Neighbor Search with\\n  Dictionary Annealing\",\n          \"On the Prior Sensitivity of Thompson Sampling\",\n          \"Multi-label Methods for Prediction with Sequential Data\"\n        ],\n        \"semantic_type\": \"\",\n        \"description\": \"\"\n      }\n    },\n    {\n      \"column\": \"year\",\n      \"properties\": {\n        \"dtype\": \"number\",\n        \"std\": 1,\n        \"min\": 2015,\n        \"max\": 2018,\n        \"num_unique_values\": 4,\n        \"samples\": [\n          2015,\n          2018,\n          2017\n        ],\n        \"semantic_type\": \"\",\n        \"description\": \"\"\n      }\n    }\n  ]\n}"
            }
          },
          "metadata": {},
          "execution_count": 2
        }
      ],
      "source": [
        "# Alternative manual download link: https://yadi.sk/d/_nGyU2IajjR9-w\n",
        "!wget \"https://www.dropbox.com/s/99az9n1b57qkd9j/arxivData.json.tar.gz?dl=1\" -O arxivData.json.tar.gz\n",
        "!tar -xvzf arxivData.json.tar.gz\n",
        "data = pd.read_json(\"./arxivData.json\")\n",
        "data.sample(n=5)"
      ]
    },
    {
      "cell_type": "code",
      "execution_count": 3,
      "metadata": {
        "cellId": "lbyqb5rx7j8jpo591r06ak",
        "id": "uvClBM8e5PY1",
        "colab": {
          "base_uri": "https://localhost:8080/"
        },
        "outputId": "984b6c19-5280-4308-d98b-58d7644183ec"
      },
      "outputs": [
        {
          "output_type": "execute_result",
          "data": {
            "text/plain": [
              "['Differential Contrastive Divergence ; This paper has been retracted.',\n",
              " 'What Does Artificial Life Tell Us About Death? ; Short philosophical essay',\n",
              " 'P=NP ; We claim to resolve the P=?NP problem via a formal argument for P=NP.']"
            ]
          },
          "metadata": {},
          "execution_count": 3
        }
      ],
      "source": [
        "# assemble lines: concatenate title and description\n",
        "lines = data.apply(lambda row: row['title'] + ' ; ' + row['summary'].replace(\"\\n\", ' '), axis=1).tolist()\n",
        "\n",
        "sorted(lines, key=len)[:3]"
      ]
    },
    {
      "cell_type": "markdown",
      "metadata": {
        "cellId": "7u97m5s8ekl5zd5a43a1yc",
        "id": "DrxlkZpu5PY3"
      },
      "source": [
        "### Tokenization\n",
        "\n",
        "You know the dril. The data is messy. Go clean the data. Use WordPunctTokenizer or something.\n"
      ]
    },
    {
      "cell_type": "code",
      "execution_count": 4,
      "metadata": {
        "cellId": "u8rvfk719iek97t3rarwr",
        "id": "bwWW39ee5PY4"
      },
      "outputs": [],
      "source": [
        "# Task: convert lines (in-place) into strings of space-separated tokens. Import & use WordPunctTokenizer\n",
        "from nltk import WordPunctTokenizer\n",
        "\n",
        "tokenizer = WordPunctTokenizer()\n",
        "\n",
        "lines = [\" \".join(tokenizer.tokenize(line.lower())) for line in lines]"
      ]
    },
    {
      "cell_type": "code",
      "execution_count": 5,
      "metadata": {
        "cellId": "w88nddpp2k8edoeyyyjh0l",
        "id": "UI3Mpm4N5PY6"
      },
      "outputs": [],
      "source": [
        "assert sorted(lines, key=len)[0] == \\\n",
        "    'differential contrastive divergence ; this paper has been retracted .'\n",
        "assert sorted(lines, key=len)[2] == \\\n",
        "    'p = np ; we claim to resolve the p =? np problem via a formal argument for p = np .'"
      ]
    },
    {
      "cell_type": "markdown",
      "metadata": {
        "cellId": "qb6h3hxmr095egzv8rlzul",
        "id": "XtxIQPTt5PY7"
      },
      "source": [
        "### N-Gram Language Model (1point)\n",
        "\n",
        "A language model is a probabilistic model that estimates text probability: the joint probability of all tokens $w_t$ in text $X$: $P(X) = P(w_1, \\dots, w_T)$.\n",
        "\n",
        "It can do so by following the chain rule:\n",
        "$$P(w_1, \\dots, w_T) = P(w_1)P(w_2 \\mid w_1)\\dots P(w_T \\mid w_1, \\dots, w_{T-1}).$$\n",
        "\n",
        "The problem with such approach is that the final term $P(w_T \\mid w_1, \\dots, w_{T-1})$ depends on $n-1$ previous words. This probability is impractical to estimate for long texts, e.g. $T = 1000$.\n",
        "\n",
        "One popular approximation is to assume that next word only depends on a finite amount of previous words:\n",
        "\n",
        "$$P(w_t \\mid w_1, \\dots, w_{t - 1}) = P(w_t \\mid w_{t - n + 1}, \\dots, w_{t - 1})$$\n",
        "\n",
        "Such model is called __n-gram language model__ where n is a parameter. For example, in 3-gram language model, each word only depends on 2 previous words.\n",
        "\n",
        "$$\n",
        "    P(w_1, \\dots, w_n) = \\prod_t P(w_t \\mid w_{t - n + 1}, \\dots, w_{t - 1}).\n",
        "$$\n",
        "\n",
        "You can also sometimes see such approximation under the name of _n-th order markov assumption_."
      ]
    },
    {
      "cell_type": "markdown",
      "metadata": {
        "cellId": "u68wydbiioqlp5gl96mhd",
        "id": "C0xoO4ke5PY9"
      },
      "source": [
        "The first stage to building such a model is counting all word occurences given N-1 previous words"
      ]
    },
    {
      "cell_type": "code",
      "execution_count": 7,
      "metadata": {
        "cellId": "og84gjipnumsakhiiu9ap",
        "id": "NZ-l7otp5PY-"
      },
      "outputs": [],
      "source": [
        "from tqdm import tqdm\n",
        "from collections import defaultdict, Counter\n",
        "\n",
        "# special tokens:\n",
        "# - `UNK` represents absent tokens,\n",
        "# - `EOS` is a special token after the end of sequence\n",
        "\n",
        "UNK, EOS = \"_UNK_\", \"_EOS_\"\n",
        "\n",
        "def count_ngrams(lines, n):\n",
        "    \"\"\"\n",
        "    Count how many times each word occured after (n - 1) previous words\n",
        "    :param lines: an iterable of strings with space-separated tokens\n",
        "    :returns: a dictionary { tuple(prefix_tokens): {next_token_1: count_1, next_token_2: count_2}}\n",
        "\n",
        "    When building counts, please consider the following two edge cases:\n",
        "    - if prefix is shorter than (n - 1) tokens, it should be padded with UNK. For n=3,\n",
        "      empty prefix: \"\" -> (UNK, UNK)\n",
        "      short prefix: \"the\" -> (UNK, the)\n",
        "      long prefix: \"the new approach\" -> (new, approach)\n",
        "    - you should add a special token, EOS, at the end of each sequence\n",
        "      \"... with deep neural networks .\" -> (..., with, deep, neural, networks, ., EOS)\n",
        "      count the probability of this token just like all others.\n",
        "    \"\"\"\n",
        "    counts = defaultdict(Counter)\n",
        "\n",
        "    for line in lines:\n",
        "        line_with_eos = line.split()\n",
        "        line_with_eos.append(EOS)\n",
        "        for i in range(len(line_with_eos)):\n",
        "            prefix = [UNK] * (n - 1 - i)\n",
        "            for j in range(n - 1 - len(prefix), 0, -1):\n",
        "                prefix.append(line_with_eos[i-j])\n",
        "\n",
        "            prefix = tuple(prefix)\n",
        "            counts[prefix][line_with_eos[i]] += 1\n",
        "\n",
        "    return counts\n"
      ]
    },
    {
      "cell_type": "code",
      "execution_count": 8,
      "metadata": {
        "cellId": "xyf2he6lak9mmqarl3nck",
        "id": "53RO_jo75PY-"
      },
      "outputs": [],
      "source": [
        "# let's test it\n",
        "dummy_lines = sorted(lines, key=len)[:100]\n",
        "dummy_counts = count_ngrams(dummy_lines, n=3)\n",
        "assert set(map(len, dummy_counts.keys())) == {2}, \"please only count {n-1}-grams\"\n",
        "assert len(dummy_counts[('_UNK_', '_UNK_')]) == 78\n",
        "assert dummy_counts['_UNK_', 'a']['note'] == 3\n",
        "assert dummy_counts['p', '=']['np'] == 2\n",
        "assert dummy_counts['author', '.']['_EOS_'] == 1"
      ]
    },
    {
      "cell_type": "markdown",
      "metadata": {
        "cellId": "4j620npeqvj0k8ak8xqx8xk",
        "id": "HZDJpDwu5PY_"
      },
      "source": [
        "Once we can count N-grams, we can build a probabilistic language model.\n",
        "The simplest way to compute probabilities is in proporiton to counts:\n",
        "\n",
        "$$ P(w_t | prefix) = { Count(prefix, w_t) \\over \\sum_{\\hat w} Count(prefix, \\hat w) } $$"
      ]
    },
    {
      "cell_type": "code",
      "execution_count": 9,
      "metadata": {
        "cellId": "c7cm76wmzlaa12bctznzei",
        "id": "ZZw0wS7C5PZA"
      },
      "outputs": [],
      "source": [
        "class NGramLanguageModel:\n",
        "    def __init__(self, lines, n):\n",
        "        \"\"\"\n",
        "        Train a simple count-based language model:\n",
        "        compute probabilities P(w_t | prefix) given ngram counts\n",
        "\n",
        "        :param n: computes probability of next token given (n - 1) previous words\n",
        "        :param lines: an iterable of strings with space-separated tokens\n",
        "        \"\"\"\n",
        "        assert n >= 1\n",
        "        self.n = n\n",
        "\n",
        "        counts = count_ngrams(lines, self.n)\n",
        "\n",
        "        # compute token proabilities given counts\n",
        "        self.probs = defaultdict(Counter)\n",
        "        # probs[(word1, word2)][word3] = P(word3 | word1, word2)\n",
        "\n",
        "        # populate self.probs with actual probabilities\n",
        "        for prefix in counts:\n",
        "            for word, count in counts[prefix].items():\n",
        "                self.probs[prefix][word] = count / sum(counts[prefix].values())\n",
        "\n",
        "    def get_possible_next_tokens(self, prefix):\n",
        "        \"\"\"\n",
        "        :param prefix: string with space-separated prefix tokens\n",
        "        :returns: a dictionary {token : it's probability} for all tokens with positive probabilities\n",
        "        \"\"\"\n",
        "        prefix = prefix.split()\n",
        "        prefix = prefix[max(0, len(prefix) - self.n + 1):]\n",
        "        prefix = [ UNK ] * (self.n - 1 - len(prefix)) + prefix\n",
        "        return self.probs[tuple(prefix)]\n",
        "\n",
        "    def get_next_token_prob(self, prefix, next_token):\n",
        "        \"\"\"\n",
        "        :param prefix: string with space-separated prefix tokens\n",
        "        :param next_token: the next token to predict probability for\n",
        "        :returns: P(next_token|prefix) a single number, 0 <= P <= 1\n",
        "        \"\"\"\n",
        "        return self.get_possible_next_tokens(prefix).get(next_token, 0)"
      ]
    },
    {
      "cell_type": "markdown",
      "metadata": {
        "cellId": "0ftnn4nmuzrup6c0vvhb8q",
        "id": "yYbjNr1O5PZA"
      },
      "source": [
        "Let's test it!"
      ]
    },
    {
      "cell_type": "code",
      "execution_count": 10,
      "metadata": {
        "cellId": "a7zajcnvhqupvcrmacvkur",
        "id": "ev-L3dCq5PZA"
      },
      "outputs": [],
      "source": [
        "dummy_lm = NGramLanguageModel(dummy_lines, n=3)\n",
        "\n",
        "p_initial = dummy_lm.get_possible_next_tokens('') # '' -> ['_UNK_', '_UNK_']\n",
        "assert np.allclose(p_initial['learning'], 0.02)\n",
        "assert np.allclose(p_initial['a'], 0.13)\n",
        "assert np.allclose(p_initial.get('meow', 0), 0)\n",
        "assert np.allclose(sum(p_initial.values()), 1)\n",
        "\n",
        "p_a = dummy_lm.get_possible_next_tokens('a') # '' -> ['_UNK_', 'a']\n",
        "assert np.allclose(p_a['machine'], 0.15384615)\n",
        "assert np.allclose(p_a['note'], 0.23076923)\n",
        "assert np.allclose(p_a.get('the', 0), 0)\n",
        "assert np.allclose(sum(p_a.values()), 1)\n",
        "\n",
        "assert np.allclose(dummy_lm.get_possible_next_tokens('a note')['on'], 1)\n",
        "assert dummy_lm.get_possible_next_tokens('a machine') == \\\n",
        "    dummy_lm.get_possible_next_tokens(\"there have always been ghosts in a machine\"), \\\n",
        "    \"your 3-gram model should only depend on 2 previous words\""
      ]
    },
    {
      "cell_type": "markdown",
      "metadata": {
        "cellId": "oh8r9a41kuk4r51wra9",
        "id": "ir_B6ZXv5PZD"
      },
      "source": [
        "Now that you've got a working n-gram language model, let's see what sequences it can generate. But first, let's train it on the whole dataset."
      ]
    },
    {
      "cell_type": "code",
      "execution_count": 11,
      "metadata": {
        "cellId": "f17xoejjppmooo2nopw4xo",
        "id": "KrGgs3TY5PZE"
      },
      "outputs": [],
      "source": [
        "lm = NGramLanguageModel(lines, n=4)"
      ]
    },
    {
      "cell_type": "code",
      "source": [
        "lm.get_possible_next_tokens(\"cnn\")"
      ],
      "metadata": {
        "colab": {
          "base_uri": "https://localhost:8080/"
        },
        "id": "9WRNMyzlDxus",
        "outputId": "762f8f1f-c85f-48c9-c820-7d6c4aafe26d"
      },
      "execution_count": 12,
      "outputs": [
        {
          "output_type": "execute_result",
          "data": {
            "text/plain": [
              "Counter({'is': 0.047619047619047616,\n",
              "         '-': 0.5238095238095238,\n",
              "         'features': 0.047619047619047616,\n",
              "         'based': 0.14285714285714285,\n",
              "         'architectures': 0.047619047619047616,\n",
              "         ':': 0.047619047619047616,\n",
              "         'as': 0.047619047619047616,\n",
              "         'cascades': 0.047619047619047616,\n",
              "         'fixations': 0.047619047619047616})"
            ]
          },
          "metadata": {},
          "execution_count": 12
        }
      ]
    },
    {
      "cell_type": "code",
      "source": [
        "prefix = \"the gnn is\"\n",
        "next_token = UNK\n",
        "i = 0\n",
        "\n",
        "while next_token is not EOS and i <= 100:\n",
        "    tokens, probs = zip(*lm.get_possible_next_tokens(prefix).items())\n",
        "    next_token = np.random.choice(tokens, p=probs)\n",
        "    prefix += \" \" + next_token\n",
        "    i += 1\n",
        "\n",
        "print(prefix)"
      ],
      "metadata": {
        "colab": {
          "base_uri": "https://localhost:8080/"
        },
        "id": "1Q8_LaY4Eood",
        "outputId": "887a835f-322d-40ac-884f-4367112810b4"
      },
      "execution_count": 14,
      "outputs": [
        {
          "output_type": "stream",
          "name": "stdout",
          "text": [
            "the gnn is a new challenge of specular materials on shapes with complex illumination ( smashing ) using both geometric and appearance model to derive better representations , in most nlp applications only single source sentences instead of full text documents . they help to learn high - level computer vision with innovative adaptations to other domains like ecommerce without any fine - tuning our best model shows the superiority of our proposed model trained on text data and then fine - tuned in an end - to - go in episodic tasks . using decision tree algorithms can be implemented using a special\n"
          ]
        }
      ]
    },
    {
      "cell_type": "markdown",
      "metadata": {
        "cellId": "2kd9glwnkr470qc4bt7f1e",
        "id": "JMQehafd5PZE"
      },
      "source": [
        "The process of generating sequences is... well, it's sequential. You maintain a list of tokens and iteratively add next token by sampling with probabilities.\n",
        "\n",
        "$ X = [] $\n",
        "\n",
        "__forever:__\n",
        "* $w_{next} \\sim P(w_{next} | X)$\n",
        "* $X = concat(X, w_{next})$\n",
        "\n",
        "\n",
        "Instead of sampling with probabilities, one can also try always taking most likely token, sampling among top-K most likely tokens or sampling with temperature. In the latter case (temperature), one samples from\n",
        "\n",
        "$$w_{next} \\sim {P(w_{next} | X) ^ {1 / \\tau} \\over \\sum_{\\hat w} P(\\hat w | X) ^ {1 / \\tau}}$$\n",
        "\n",
        "Where $\\tau > 0$ is model temperature. If $\\tau << 1$, more likely tokens will be sampled with even higher probability while less likely tokens will vanish."
      ]
    },
    {
      "cell_type": "code",
      "source": [
        "lm = NGramLanguageModel(lines, n=3)"
      ],
      "metadata": {
        "id": "TbrHgscvOuvl"
      },
      "execution_count": 15,
      "outputs": []
    },
    {
      "cell_type": "code",
      "execution_count": 16,
      "metadata": {
        "cellId": "sgbatlm9vzb4z889fho7",
        "id": "P8352edL5PZE"
      },
      "outputs": [],
      "source": [
        "def get_next_token(lm, prefix, temperature=1.0):\n",
        "    \"\"\"\n",
        "    return next token after prefix;\n",
        "    :param temperature: samples proportionally to lm probabilities ^ (1 / temperature)\n",
        "        if temperature == 0, always takes most likely token. Break ties arbitrarily.\n",
        "    \"\"\"\n",
        "    tokens, probs = zip(*lm.get_possible_next_tokens(prefix).items())\n",
        "    if temperature == 0:\n",
        "        next_token = tokens[np.argmax(probs)]\n",
        "    else:\n",
        "        probs = [p ** (1/temperature) for p in probs]\n",
        "        probs = [p / sum(probs) for p in probs]\n",
        "        next_token = np.random.choice(tokens, p=probs)\n",
        "\n",
        "    return next_token"
      ]
    },
    {
      "cell_type": "code",
      "execution_count": 17,
      "metadata": {
        "cellId": "98l40131wjtd5xbdm5b2nr",
        "id": "DsgsEmp75PZF",
        "colab": {
          "base_uri": "https://localhost:8080/"
        },
        "outputId": "17448687-804f-424f-c343-cd7c1a88a17b"
      },
      "outputs": [
        {
          "output_type": "stream",
          "name": "stdout",
          "text": [
            "Looks nice!\n"
          ]
        }
      ],
      "source": [
        "from collections import Counter\n",
        "test_freqs = Counter([get_next_token(lm, 'there have') for _ in range(10000)])\n",
        "assert 250 < test_freqs['not'] < 450\n",
        "assert 8500 < test_freqs['been'] < 9500\n",
        "assert 1 < test_freqs['lately'] < 200\n",
        "\n",
        "test_freqs = Counter([get_next_token(lm, 'deep', temperature=1.0) for _ in range(10000)])\n",
        "assert 1500 < test_freqs['learning'] < 3000\n",
        "test_freqs = Counter([get_next_token(lm, 'deep', temperature=0.5) for _ in range(10000)])\n",
        "assert 8000 < test_freqs['learning'] < 9000\n",
        "test_freqs = Counter([get_next_token(lm, 'deep', temperature=0.0) for _ in range(10000)])\n",
        "assert test_freqs['learning'] == 10000\n",
        "\n",
        "print(\"Looks nice!\")"
      ]
    },
    {
      "cell_type": "markdown",
      "metadata": {
        "cellId": "ux4n8iq523n4s3ftrelhxj",
        "id": "z4R8dplw5PZF"
      },
      "source": [
        "Let's have fun with this model"
      ]
    },
    {
      "cell_type": "code",
      "execution_count": 18,
      "metadata": {
        "cellId": "1nnnycga61rijt6nd8zai",
        "id": "80XdPFh35PZF",
        "colab": {
          "base_uri": "https://localhost:8080/"
        },
        "outputId": "8112d91d-e829-4c99-a0ff-1956f5b6efc7"
      },
      "outputs": [
        {
          "output_type": "stream",
          "name": "stdout",
          "text": [
            "artificial catalytic reactions that can not be able to distinguish the real world scenes . the e - commerce apps and the small size are both computational and implementation issues and the derived pac - bayes models and to the approximation of a social network , we implement a system , which constitutes their extension to crfs by integrating the optical flow frames as input . previous work focused on the parameter using annealing . more specifically , the flipflop algorithm achieves comparable performance with a nonparametric representation of a distribution over model - based learning algorithms and applications ; sparse\n"
          ]
        }
      ],
      "source": [
        "prefix = 'artificial' # <- your ideas :)\n",
        "\n",
        "for i in range(100):\n",
        "    prefix += ' ' + get_next_token(lm, prefix)\n",
        "    if prefix.endswith(EOS) or len(lm.get_possible_next_tokens(prefix)) == 0:\n",
        "        break\n",
        "\n",
        "print(prefix)"
      ]
    },
    {
      "cell_type": "code",
      "execution_count": 19,
      "metadata": {
        "cellId": "pxyjsv3b7r8thdfxlgitl",
        "id": "YX26tm1c5PZG",
        "colab": {
          "base_uri": "https://localhost:8080/"
        },
        "outputId": "7d5a47de-4bce-4b8b-a02e-14eb8f3f9f1b"
      },
      "outputs": [
        {
          "output_type": "stream",
          "name": "stdout",
          "text": [
            "bridging the gap between the two - pass filtering of the same time , and a novel algorithm for the application of the system is able to achieve state - of - the - art methods . _EOS_\n"
          ]
        }
      ],
      "source": [
        "prefix = 'bridging the' # <- more of your ideas\n",
        "\n",
        "for i in range(100):\n",
        "    prefix += ' ' + get_next_token(lm, prefix, temperature=0.5)\n",
        "    if prefix.endswith(EOS) or len(lm.get_possible_next_tokens(prefix)) == 0:\n",
        "        break\n",
        "\n",
        "print(prefix)"
      ]
    },
    {
      "cell_type": "markdown",
      "metadata": {
        "cellId": "2n90bscmzfko0qnctp7ysc",
        "id": "RMTOWzB_5PZG"
      },
      "source": [
        "__More in the homework:__ nucleus sampling, top-k sampling, beam search(not for the faint of heart)."
      ]
    },
    {
      "cell_type": "markdown",
      "metadata": {
        "cellId": "3gdmey7g8at5n5c5x4gayh",
        "id": "OB3OHY2P5PZG"
      },
      "source": [
        "### Evaluating language models: perplexity (1point)\n",
        "\n",
        "Perplexity is a measure of how well your model approximates the true probability distribution behind the data. __Smaller perplexity = better model__.\n",
        "\n",
        "To compute perplexity on one sentence, use:\n",
        "$$\n",
        "    {\\mathbb{P}}(w_1 \\dots w_N) = P(w_1, \\dots, w_N)^{-\\frac1N} = \\left( \\prod_t P(w_t \\mid w_{t - n}, \\dots, w_{t - 1})\\right)^{-\\frac1N},\n",
        "$$\n",
        "\n",
        "\n",
        "On the corpora level, perplexity is a product of probabilities of all tokens in all sentences to the power of $1/N$, where $N$ is __total length (in tokens) of all sentences__ in corpora.\n",
        "\n",
        "This number can quickly get too small for float32/float64 precision, so we recommend you to first compute log-perplexity (from log-probabilities) and then take the exponent."
      ]
    },
    {
      "cell_type": "code",
      "execution_count": 76,
      "metadata": {
        "cellId": "5hp010xyzzb4vqewo1bhny",
        "id": "7T-E2zPR5PZI"
      },
      "outputs": [],
      "source": [
        "def perplexity(lm, lines, min_logprob=np.log(10 ** -50.)):\n",
        "    \"\"\"\n",
        "    :param lines: a list of strings with space-separated tokens\n",
        "    :param min_logprob: if log(P(w | ...)) is smaller than min_logprop, set it equal to min_logrob\n",
        "    :returns: corpora-level perplexity - a single scalar number from the formula above\n",
        "\n",
        "    Note: do not forget to compute P(w_first | empty) and P(eos | full_sequence)\n",
        "\n",
        "    PLEASE USE lm.get_next_token_prob and NOT lm.get_possible_next_tokens\n",
        "    \"\"\"\n",
        "    perplexity = 0\n",
        "    total_tokens = 0\n",
        "    for line in lines:\n",
        "        tokens = line.split()\n",
        "        if not tokens:\n",
        "            continue\n",
        "        prefix = \"\"\n",
        "        for i, token in enumerate(tokens):\n",
        "            if i == len(tokens) - 1:\n",
        "                prob = np.log(lm.get_next_token_prob(prefix, token))\n",
        "                prob = min_logprob if prob < min_logprob else prob\n",
        "                perplexity += prob\n",
        "                prefix = prefix + \" \" + token\n",
        "                prob = np.log(lm.get_next_token_prob(prefix, EOS))\n",
        "                prob = min_logprob if prob < min_logprob else prob\n",
        "                perplexity += prob\n",
        "                total_tokens += len(tokens) + 1\n",
        "            else:\n",
        "                prob = np.log(lm.get_next_token_prob(prefix, token))\n",
        "                prob = min_logprob if prob < min_logprob else prob\n",
        "                perplexity += prob\n",
        "                prefix = prefix + \" \" + token\n",
        "\n",
        "    return np.exp(-perplexity / total_tokens)"
      ]
    },
    {
      "cell_type": "code",
      "execution_count": 77,
      "metadata": {
        "cellId": "8b689bobhkey04x7pabupj",
        "id": "Nnuve6F55PZJ",
        "colab": {
          "base_uri": "https://localhost:8080/"
        },
        "outputId": "afcefb5b-b0e1-4b28-a18b-2f123a2d24ee"
      },
      "outputs": [
        {
          "output_type": "stream",
          "name": "stdout",
          "text": [
            "Perplexities: ppx1=318.213 ppx3=1.520 ppx10=1.184\n"
          ]
        },
        {
          "output_type": "stream",
          "name": "stderr",
          "text": [
            "<ipython-input-76-59fb5ae9bdf4>:29: RuntimeWarning: divide by zero encountered in log\n",
            "  prob = np.log(lm.get_next_token_prob(prefix, token))\n",
            "<ipython-input-76-59fb5ae9bdf4>:20: RuntimeWarning: divide by zero encountered in log\n",
            "  prob = np.log(lm.get_next_token_prob(prefix, token))\n",
            "<ipython-input-76-59fb5ae9bdf4>:24: RuntimeWarning: divide by zero encountered in log\n",
            "  prob = np.log(lm.get_next_token_prob(prefix, EOS))\n"
          ]
        }
      ],
      "source": [
        "lm1 = NGramLanguageModel(dummy_lines, n=1)\n",
        "lm3 = NGramLanguageModel(dummy_lines, n=3)\n",
        "lm10 = NGramLanguageModel(dummy_lines, n=10)\n",
        "\n",
        "ppx1 = perplexity(lm1, dummy_lines)\n",
        "ppx3 = perplexity(lm3, dummy_lines)\n",
        "ppx10 = perplexity(lm10, dummy_lines)\n",
        "ppx_missing = perplexity(lm3, ['the jabberwock , with eyes of flame , '])  # thanks, L. Carrol\n",
        "\n",
        "print(\"Perplexities: ppx1=%.3f ppx3=%.3f ppx10=%.3f\" % (ppx1, ppx3, ppx10))\n",
        "\n",
        "assert all(0 < ppx < 500 for ppx in (ppx1, ppx3, ppx10)), \"perplexity should be non-negative and reasonably small\"\n",
        "assert ppx1 > ppx3 > ppx10, \"higher N models should overfit and \"\n",
        "assert np.isfinite(ppx_missing) and ppx_missing > 10 ** 6, \"missing words should have large but finite perplexity. \" \\\n",
        "    \" Make sure you use min_logprob right\"\n",
        "assert np.allclose([ppx1, ppx3, ppx10], (318.2132342216302, 1.5199996213739575, 1.1838145037901249))"
      ]
    },
    {
      "cell_type": "markdown",
      "metadata": {
        "cellId": "ypc4lks4vs1li908fqi8",
        "id": "iOzEfSHv5PZK"
      },
      "source": [
        "Now let's measure the actual perplexity: we'll split the data into train and test and score model on test data only."
      ]
    },
    {
      "cell_type": "code",
      "execution_count": 78,
      "metadata": {
        "cellId": "tjnehsem2lmijkg2lto4w",
        "id": "ZU3KvnGY5PZL",
        "colab": {
          "base_uri": "https://localhost:8080/"
        },
        "outputId": "67fd87e5-aaa2-45ba-f64e-90b633a9e18f"
      },
      "outputs": [
        {
          "output_type": "stream",
          "name": "stderr",
          "text": [
            "<ipython-input-76-59fb5ae9bdf4>:29: RuntimeWarning: divide by zero encountered in log\n",
            "  prob = np.log(lm.get_next_token_prob(prefix, token))\n",
            "<ipython-input-76-59fb5ae9bdf4>:20: RuntimeWarning: divide by zero encountered in log\n",
            "  prob = np.log(lm.get_next_token_prob(prefix, token))\n"
          ]
        },
        {
          "output_type": "stream",
          "name": "stdout",
          "text": [
            "N = 1, Perplexity = 1832.23136\n"
          ]
        },
        {
          "output_type": "stream",
          "name": "stderr",
          "text": [
            "<ipython-input-76-59fb5ae9bdf4>:24: RuntimeWarning: divide by zero encountered in log\n",
            "  prob = np.log(lm.get_next_token_prob(prefix, EOS))\n"
          ]
        },
        {
          "output_type": "stream",
          "name": "stdout",
          "text": [
            "N = 2, Perplexity = 85653987.28774\n",
            "N = 3, Perplexity = 61999196259043346743296.00000\n"
          ]
        }
      ],
      "source": [
        "from sklearn.model_selection import train_test_split\n",
        "train_lines, test_lines = train_test_split(lines, test_size=0.25, random_state=42)\n",
        "\n",
        "for n in (1, 2, 3):\n",
        "    lm = NGramLanguageModel(n=n, lines=train_lines)\n",
        "    ppx = perplexity(lm, test_lines)\n",
        "    print(\"N = %i, Perplexity = %.5f\" % (n, ppx))\n"
      ]
    },
    {
      "cell_type": "code",
      "execution_count": null,
      "metadata": {
        "cellId": "38nfbfkpzgfxik8kccyt1l",
        "id": "VpJ8I9vw5PZL"
      },
      "outputs": [],
      "source": [
        "# whoops, it just blew up :)"
      ]
    },
    {
      "cell_type": "markdown",
      "metadata": {
        "cellId": "oopn2o57wxm9vbxzycytce",
        "id": "eRgUAAA75PZL"
      },
      "source": [
        "### LM Smoothing\n",
        "\n",
        "The problem with our simple language model is that whenever it encounters an n-gram it has never seen before, it assigns it with the probabilitiy of 0. Every time this happens, perplexity explodes.\n",
        "\n",
        "To battle this issue, there's a technique called __smoothing__. The core idea is to modify counts in a way that prevents probabilities from getting too low. The simplest algorithm here is Additive smoothing (aka [Lapace smoothing](https://en.wikipedia.org/wiki/Additive_smoothing)):\n",
        "\n",
        "$$ P(w_t | prefix) = { Count(prefix, w_t) + \\delta \\over \\sum_{\\hat w} (Count(prefix, \\hat w) + \\delta) } $$\n",
        "\n",
        "If counts for a given prefix are low, additive smoothing will adjust probabilities to a more uniform distribution. Not that the summation in the denominator goes over _all words in the vocabulary_.\n",
        "\n",
        "Here's an example code we've implemented for you:"
      ]
    },
    {
      "cell_type": "code",
      "execution_count": 79,
      "metadata": {
        "cellId": "ioh26rlov6g8l2ssj1c8pm",
        "id": "ENxeHjNT5PZL"
      },
      "outputs": [],
      "source": [
        "class LaplaceLanguageModel(NGramLanguageModel):\n",
        "    \"\"\" this code is an example, no need to change anything \"\"\"\n",
        "    def __init__(self, lines, n, delta=1.0):\n",
        "        self.n = n\n",
        "        counts = count_ngrams(lines, self.n)\n",
        "        self.vocab = set(token for token_counts in counts.values() for token in token_counts)\n",
        "        self.probs = defaultdict(Counter)\n",
        "\n",
        "        for prefix in counts:\n",
        "            token_counts = counts[prefix]\n",
        "            total_count = sum(token_counts.values()) + delta * len(self.vocab)\n",
        "            self.probs[prefix] = {token: (token_counts[token] + delta) / total_count\n",
        "                                          for token in token_counts}\n",
        "    def get_possible_next_tokens(self, prefix):\n",
        "        token_probs = super().get_possible_next_tokens(prefix)\n",
        "        missing_prob_total = 1.0 - sum(token_probs.values())\n",
        "        missing_prob = missing_prob_total / max(1, len(self.vocab) - len(token_probs))\n",
        "        return {token: token_probs.get(token, missing_prob) for token in self.vocab}\n",
        "\n",
        "    def get_next_token_prob(self, prefix, next_token):\n",
        "        token_probs = super().get_possible_next_tokens(prefix)\n",
        "        if next_token in token_probs:\n",
        "            return token_probs[next_token]\n",
        "        else:\n",
        "            missing_prob_total = 1.0 - sum(token_probs.values())\n",
        "            missing_prob_total = max(0, missing_prob_total) # prevent rounding errors\n",
        "            return missing_prob_total / max(1, len(self.vocab) - len(token_probs))\n"
      ]
    },
    {
      "cell_type": "markdown",
      "metadata": {
        "cellId": "90vsann3920ie05r2blbmi",
        "execution_id": "3868303d-0bb9-42c6-a9a8-dcf485c8220c",
        "id": "flyOcPSP5PZN"
      },
      "source": [
        "**Disclaimer**: the implementation above assumes all words unknown within a given context to be equally likely, *as well as the words outside of vocabulary*. Therefore, its' perplexity will be lower than it should when encountering such words. Therefore, comparing it with a model with fewer unknown words will not be fair. When implementing your own smoothing, you may handle this by adding a virtual `UNK` token of non-zero probability. Technically, this will result in a model where probabilities do not add up to $1$, but it is close enough for a practice excercise."
      ]
    },
    {
      "cell_type": "code",
      "execution_count": 80,
      "metadata": {
        "cellId": "3xvxkdxcmfqucruyt66mdc",
        "id": "n7n1wv8X5PZN"
      },
      "outputs": [],
      "source": [
        "#test that it's a valid probability model\n",
        "for n in (1, 2, 3):\n",
        "    dummy_lm = LaplaceLanguageModel(dummy_lines, n=n)\n",
        "    assert np.allclose(sum([dummy_lm.get_next_token_prob('a', w_i) for w_i in dummy_lm.vocab]), 1), \"I told you not to break anything! :)\""
      ]
    },
    {
      "cell_type": "code",
      "execution_count": 81,
      "metadata": {
        "cellId": "j6zqa50koitjjri9ipd8ec",
        "id": "geK5W2P-5PZN",
        "colab": {
          "base_uri": "https://localhost:8080/"
        },
        "outputId": "d9b11e2d-54d2-4280-eaa1-2ec4dc36d9fb"
      },
      "outputs": [
        {
          "output_type": "stream",
          "name": "stdout",
          "text": [
            "N = 1, Perplexity = 977.67559\n",
            "N = 2, Perplexity = 470.48021\n",
            "N = 3, Perplexity = 3679.44765\n"
          ]
        }
      ],
      "source": [
        "for n in (1, 2, 3):\n",
        "    lm = LaplaceLanguageModel(train_lines, n=n, delta=0.1)\n",
        "    ppx = perplexity(lm, test_lines)\n",
        "    print(\"N = %i, Perplexity = %.5f\" % (n, ppx))"
      ]
    },
    {
      "cell_type": "markdown",
      "metadata": {
        "cellId": "3b8s1y9uls4fosu3yp28gg",
        "id": "fR7p0c-y5PZO"
      },
      "source": [
        "### Kneser-Ney smoothing (2 points)\n",
        "\n",
        "Additive smoothing is simple, reasonably good but definitely not a State of The Art algorithm.\n",
        "\n",
        "\n",
        "Your final task in this notebook is to implement [Kneser-Ney](https://en.wikipedia.org/wiki/Kneser%E2%80%93Ney_smoothing) smoothing.\n",
        "\n",
        "It can be computed recurrently, for n>1:\n",
        "\n",
        "$$P_{kn}(w_t | prefix_{n-1}) = { \\max(0, Count(prefix_{n-1}, w_t) - \\delta) \\over \\sum_{\\hat w} Count(prefix_{n-1}, \\hat w)} + \\lambda_{prefix_{n-1}} \\cdot P_{kn}(w_t | prefix_{n-2})$$\n",
        "\n",
        "where\n",
        "- $prefix_{n-1}$ is a tuple of {n-1} previous tokens\n",
        "- $lambda_{prefix_{n-1}}$ is a normalization constant chosen so that probabilities add up to 1\n",
        "- Unigram $P_{kn}(w_t | prefix_{n-2})$ corresponds to Kneser Ney smoothing for {N-1}-gram language model.\n",
        "- Unigram $P_{kn}(w_t)$ is a special case: how likely it is to see x_t in an unfamiliar context\n",
        "\n",
        "See lecture slides or wiki for more detailed formulae.\n",
        "\n",
        "__Your task__ is to\n",
        "- implement `KneserNeyLanguageModel` class,\n",
        "- test it on 1-3 gram language models\n",
        "- find optimal (within reason) smoothing delta for 3-gram language model with Kneser-Ney smoothing"
      ]
    },
    {
      "cell_type": "code",
      "execution_count": 130,
      "metadata": {
        "cellId": "2ix7kzw02v30oye55322all",
        "id": "QUf9xEla5PZO"
      },
      "outputs": [],
      "source": [
        "class KneserNeyLanguageModel(NGramLanguageModel):\n",
        "    \"\"\" A template for Kneser-Ney language model. Default delta may be suboptimal. \"\"\"\n",
        "    def __init__(self, lines, n, delta=1.0):\n",
        "        self.n = n\n",
        "        self.delta = delta\n",
        "        self.counts_1 = count_ngrams(lines, self.n)\n",
        "        self.counts_2 = count_ngrams(lines, self.n - 1)\n",
        "        self.vocab = set(token for token_counts in self.counts_1.values() for token in token_counts)\n",
        "\n",
        "        self.lambdas = defaultdict(float)\n",
        "        for prefix in self.counts_1:\n",
        "            total = sum(self.counts_1[prefix].values())\n",
        "            unique_next = len(self.counts_1[prefix])\n",
        "            self.lambdas[prefix] = (unique_next * self.delta) / total\n",
        "\n",
        "    def get_possible_next_tokens(self, prefix):\n",
        "        prefix = tuple(prefix)\n",
        "        if len(prefix) >= self.n - 1:\n",
        "            prefix = prefix[-(self.n - 1):]\n",
        "            return set(self.counts[prefix].keys())\n",
        "        else:\n",
        "            possible_tokens = set()\n",
        "            for p in self.counts_1:\n",
        "                if p[-(len(prefix)):] == prefix:\n",
        "                    possible_tokens.update(self.counts_1[p].keys())\n",
        "            return possible_tokens if possible_tokens else self.vocab\n",
        "\n",
        "    def get_next_token_prob(self, prefix, next_token):\n",
        "        prefix = tuple(prefix.split())\n",
        "        prefix = prefix[-self.n + 1:]\n",
        "\n",
        "        def p_kn(token, prefix):\n",
        "            if len(prefix) == 0:\n",
        "                counts_2 = self.counts_2[(UNK,)].get(token,0)\n",
        "                total_continuations = sum(self.counts_2[(UNK,)].values())\n",
        "                return counts_2 / max(1, total_continuations)\n",
        "\n",
        "            count = self.counts_1[prefix].get(token, 0)\n",
        "            total = sum(self.counts_1[prefix].values())\n",
        "            fraction = max(0, count - self.delta) / max(1, total)\n",
        "\n",
        "            cur_lambda = self.lambdas.get(prefix, 0)\n",
        "            back_prefix = prefix[1:] if len(prefix) > 1 else ()\n",
        "            back_prob = p_kn(token, back_prefix)\n",
        "            return fraction + cur_lambda * back_prob\n",
        "\n",
        "        return p_kn(next_token, prefix)"
      ]
    },
    {
      "cell_type": "code",
      "execution_count": null,
      "metadata": {
        "cellId": "lsk91832qbmdt7x1q0a8z4",
        "id": "hUhD2cBq5PZO"
      },
      "outputs": [],
      "source": [
        "#test that it's a valid probability model\n",
        "for n in (1, 2, 3):\n",
        "    dummy_lm = KneserNeyLanguageModel(dummy_lines, n=n)\n",
        "    assert np.allclose(sum([dummy_lm.get_next_token_prob('a', w_i) for w_i in dummy_lm.vocab]), 1), \"I told you not to break anything! :)\""
      ]
    },
    {
      "cell_type": "code",
      "execution_count": null,
      "metadata": {
        "cellId": "pp3jtkk9annp1qkou58x1b",
        "id": "8GrgI9wV5PZb"
      },
      "outputs": [],
      "source": [
        "for n in (1, 2, 3):\n",
        "    lm = KneserNeyLanguageModel(train_lines, n=n, delta=0.75)\n",
        "    ppx = perplexity(lm, test_lines)\n",
        "    print(\"N = %i, Perplexity = %.5f\" % (n, ppx))"
      ]
    }
  ],
  "metadata": {
    "kernelspec": {
      "display_name": "Python 3 (ipykernel)",
      "language": "python",
      "name": "python3"
    },
    "language_info": {
      "codemirror_mode": {
        "name": "ipython",
        "version": 3
      },
      "file_extension": ".py",
      "mimetype": "text/x-python",
      "name": "python",
      "nbconvert_exporter": "python",
      "pygments_lexer": "ipython3",
      "version": "3.11.0"
    },
    "notebookId": "53997d2d-afb8-4477-8874-b6d46299f06c",
    "notebookPath": "seminar.ipynb",
    "colab": {
      "provenance": []
    }
  },
  "nbformat": 4,
  "nbformat_minor": 0
}